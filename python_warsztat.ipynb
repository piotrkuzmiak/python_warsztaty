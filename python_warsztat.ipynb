{
 "cells": [
  {
   "cell_type": "markdown",
   "metadata": {
    "cell_style": "split",
    "slideshow": {
     "slide_type": "slide"
    }
   },
   "source": [
    "<div>\n",
    "<img src=\"python_l.png\" width=\"500\"/>\n",
    "</div>\n"
   ]
  },
  {
   "cell_type": "markdown",
   "metadata": {
    "cell_style": "split",
    "hide_input": false,
    "slideshow": {
     "slide_type": "fragment"
    }
   },
   "source": [
    "\n",
    "<b>Python</b> – język programowania wysokiego poziomu ogólnego przeznaczenia, o rozbudowanym pakiecie bibliotek standardowych, którego ideą przewodnią jest czytelność i klarowność kodu źródłowego. Jego składnia cechuje się przejrzystością i zwięzłością[...].**Wikipedia**"
   ]
  },
  {
   "cell_type": "markdown",
   "metadata": {
    "slideshow": {
     "slide_type": "subslide"
    }
   },
   "source": [
    "<center>\n",
    "\n",
    "![noimg](wciecie.jpg)\n",
    "\n",
    "</center>"
   ]
  },
  {
   "cell_type": "markdown",
   "metadata": {
    "hide_input": true,
    "slideshow": {
     "slide_type": "slide"
    }
   },
   "source": [
    "- Instalacja **Anaconda Python**\n",
    "    * [strona do pobrania Ananconda Python](https://www.anaconda.com/distribution/ \"www.anaconda.com\")\n",
    "    * instalacja nie wymaga praw administratora lokalnego"
   ]
  },
  {
   "cell_type": "markdown",
   "metadata": {
    "slideshow": {
     "slide_type": "subslide"
    }
   },
   "source": [
    "- Co mamy \"w pudełku\":\n",
    "    * pandas\n",
    "    * numpy\n",
    "    * [Środowisko analityczne Jupyter](https://jupyter.org/try)\n",
    "    * matplotlib\n",
    "    * seaborn\n",
    "    * bokeh\n",
    "    * [Edytor kodu spyder](https://www.spyder-ide.org/)\n",
    "    * scikit-learn\n",
    "    * wiele, wiele innych.\n",
    "- Co jeszcze warto \"dorzucić\" **i jak to doinstalować w Anaconda** - instalacja dodatkowych modułów komenda: *pip install*\n",
    "    * [moduł teradata do połączeń przez ODBC z KHD](https://downloads.teradata.com/tools/reference/teradata-python-module#Installing \"do połączeń z KHD\")\n",
    "    * [moduł do tworzenia i formatowania arkuszy Excel](https://xlsxwriter.readthedocs.io/)\n",
    "    * [moduł oracle_cx do połączeń z bazami Oracle](https://oracle.github.io/python-cx_Oracle/)\n",
    "    * kernel języka R, [kernel SAS ?](https://github.com/sassoftware/sas_kernel)\n",
    "    * [rozszerzenia dla jupyter-notebook](https://jupyter-contrib-nbextensions.readthedocs.io/en/latest/)\n",
    "    "
   ]
  },
  {
   "cell_type": "markdown",
   "metadata": {
    "slideshow": {
     "slide_type": "notes"
    }
   },
   "source": [
    "#### <p style = \"font-family:'bauhaus 93';font-size:30px;\">Python</p>\n",
    "- wcięcia, wcięcia.... ufffff ;) : spacje lub tabulatory\n",
    "- język obiektowy"
   ]
  },
  {
   "cell_type": "markdown",
   "metadata": {
    "slideshow": {
     "slide_type": "notes"
    }
   },
   "source": [
    "- typy danych,\n",
    "- definiowanie zmiennych, czyli przypisania wartości i odwołania do tych zmiennych coś jak: %LET zmienna i &zmienna w SAS'ie ... tylko prościej\n",
    "- operacje na ciągach znaków,\n",
    "- listy, sekwencje, słowniki,\n",
    "- przepływ sterowania, czyli *if*, *if else*, *for*, itp.\n",
    "- definicja funkcji."
   ]
  },
  {
   "cell_type": "markdown",
   "metadata": {
    "hide_input": false,
    "slideshow": {
     "slide_type": "subslide"
    }
   },
   "source": [
    "### <p style = \"font-family:bahnschrift,garamond,serif\">Podstawowe typy danych i definiowanie zmiennych. Coś jak: %LET zmienna i &zmienna w SAS'ie ... tylko prościej:</p>"
   ]
  },
  {
   "cell_type": "code",
   "execution_count": 1,
   "metadata": {
    "hide_input": false,
    "slideshow": {
     "slide_type": "fragment"
    }
   },
   "outputs": [],
   "source": [
    "zmienna1='jakis tekst' # tekst w pojedyńczych lub podwójnych \"ciapach\", trzy ciapki, jeśli ma być wielu liniach\n",
    "zmienna2=2 # integer\n",
    "zmienna3=3.4 # float"
   ]
  },
  {
   "cell_type": "code",
   "execution_count": 3,
   "metadata": {
    "slideshow": {
     "slide_type": "fragment"
    }
   },
   "outputs": [
    {
     "data": {
      "text/plain": [
       "2"
      ]
     },
     "execution_count": 3,
     "metadata": {},
     "output_type": "execute_result"
    }
   ],
   "source": [
    "zmienna2"
   ]
  },
  {
   "cell_type": "markdown",
   "metadata": {
    "hide_input": false,
    "slideshow": {
     "slide_type": "subslide"
    }
   },
   "source": [
    "### <p style = \"font-family:bahnschrift,garamond,serif\">Listy, sekwencje, słowniki, czyli kolekcje:</p>"
   ]
  },
  {
   "cell_type": "code",
   "execution_count": 4,
   "metadata": {
    "hide_input": false,
    "slideshow": {
     "slide_type": "fragment"
    }
   },
   "outputs": [],
   "source": [
    "#lista, slownik, set\n",
    "lista=['pierwszy element',2,'trzeci element']\n",
    "slownik={'1':1,2:2,'trzy':3}\n",
    "sekwencja=set([1,2,1,'trzy','trzy',2])"
   ]
  },
  {
   "cell_type": "code",
   "execution_count": 7,
   "metadata": {
    "hide_input": false,
    "slideshow": {
     "slide_type": "fragment"
    }
   },
   "outputs": [
    {
     "data": {
      "text/plain": [
       "'pierwszy element'"
      ]
     },
     "execution_count": 7,
     "metadata": {},
     "output_type": "execute_result"
    }
   ],
   "source": [
    "#dostępy do nich\n",
    "lista[0]"
   ]
  },
  {
   "cell_type": "markdown",
   "metadata": {
    "hide_input": false,
    "slideshow": {
     "slide_type": "subslide"
    }
   },
   "source": [
    "### <p style = \"font-family:bahnschrift,garamond,serif\">Operacje na tekście:</p>"
   ]
  },
  {
   "cell_type": "code",
   "execution_count": 2,
   "metadata": {
    "slideshow": {
     "slide_type": "fragment"
    }
   },
   "outputs": [],
   "source": [
    "tekst='Ala ma kota'"
   ]
  },
  {
   "cell_type": "code",
   "execution_count": 8,
   "metadata": {
    "slideshow": {
     "slide_type": "fragment"
    }
   },
   "outputs": [
    {
     "data": {
      "text/plain": [
       "'PSA'"
      ]
     },
     "execution_count": 8,
     "metadata": {},
     "output_type": "execute_result"
    }
   ],
   "source": [
    "tekst.replace('kota','psa').split()[-1].upper()"
   ]
  },
  {
   "cell_type": "code",
   "execution_count": 25,
   "metadata": {
    "slideshow": {
     "slide_type": "fragment"
    }
   },
   "outputs": [],
   "source": [
    "sql='select {} from {}'"
   ]
  },
  {
   "cell_type": "code",
   "execution_count": 27,
   "metadata": {
    "slideshow": {
     "slide_type": "fragment"
    }
   },
   "outputs": [
    {
     "data": {
      "text/plain": [
       "'select * from DDHDP28P'"
      ]
     },
     "execution_count": 27,
     "metadata": {},
     "output_type": "execute_result"
    }
   ],
   "source": [
    "sql.format('*','DDHDP28P')"
   ]
  },
  {
   "cell_type": "markdown",
   "metadata": {
    "hide_input": false,
    "slideshow": {
     "slide_type": "subslide"
    }
   },
   "source": [
    "### <p style = \"font-family:bahnschrift,garamond,serif\">Przepływ sterowania, czyli *if*, *if else*, *for*, itp.:</p>"
   ]
  },
  {
   "cell_type": "code",
   "execution_count": 29,
   "metadata": {
    "hide_input": false,
    "slideshow": {
     "slide_type": "fragment"
    }
   },
   "outputs": [
    {
     "data": {
      "text/plain": [
       "['pierwszy element', 2, 'trzeci element']"
      ]
     },
     "execution_count": 29,
     "metadata": {},
     "output_type": "execute_result"
    }
   ],
   "source": [
    "lista"
   ]
  },
  {
   "cell_type": "code",
   "execution_count": 30,
   "metadata": {
    "hide_input": false,
    "slideshow": {
     "slide_type": "fragment"
    }
   },
   "outputs": [
    {
     "name": "stdout",
     "output_type": "stream",
     "text": [
      "element:  pierwszy element\n",
      "znalazłem 2!, prosze: 2\n",
      "element:  trzeci element\n"
     ]
    }
   ],
   "source": [
    "for element in lista:\n",
    "    if element==2:\n",
    "        print('znalazłem 2!, prosze:', element)\n",
    "    else:\n",
    "        print('element: ', element)"
   ]
  },
  {
   "cell_type": "markdown",
   "metadata": {
    "slideshow": {
     "slide_type": "notes"
    }
   },
   "source": [
    "### <p style = \"font-family:bahnschrift,garamond,serif\">Definiowanie funkcji:</p>\n",
    "- funkcja: definicja vs SAS makro i wykonanie, przekazanie argumentów, składnia zawsze taka sama :), docstring'i\n",
    "- rozwijanie podpowiedzi w trakcie pisania, czyli pomoc przy kodowaniu pod tabulatorem - rozwinięcie kropki,\n",
    "- odwołania do zmniennych bez jakiegokolwiek pośrednika stąd bez potrzeby stosowania ucieczek w stylu: SCAN vs %QSCAN, %BQUOTE,  %NRBQUOTE, itd. jak w SAS\n",
    "- debugowanie kodu, co i jak kod mówi do mnie"
   ]
  },
  {
   "cell_type": "markdown",
   "metadata": {
    "hide_input": false,
    "slideshow": {
     "slide_type": "subslide"
    }
   },
   "source": [
    "### <p style = \"font-family:bahnschrift,garamond,serif\">Definiowanie funkcji:</p>"
   ]
  },
  {
   "cell_type": "code",
   "execution_count": 57,
   "metadata": {
    "hide_input": false,
    "slideshow": {
     "slide_type": "fragment"
    }
   },
   "outputs": [],
   "source": [
    "#definiowanie funkcji\n",
    "def dodawanie(arg1=1, arg2=4):\n",
    "    \"\"\"\n",
    "    Funkcja dodaje zmienna1 i zmienna2\n",
    "    Wynik:\n",
    "    --------\n",
    "    Dodane zmienne\n",
    "    \"\"\"\n",
    "    return arg1+arg2"
   ]
  },
  {
   "cell_type": "code",
   "execution_count": 58,
   "metadata": {
    "hide_input": false,
    "slideshow": {
     "slide_type": "fragment"
    }
   },
   "outputs": [
    {
     "data": {
      "text/plain": [
       "'piotrkuźmiak'"
      ]
     },
     "execution_count": 58,
     "metadata": {},
     "output_type": "execute_result"
    }
   ],
   "source": [
    "#wywolanie funkcji - przy okazji tak komentujemy w kodzie w Python\n",
    "#dodanie argumentów\n",
    "#wywołanie z argumentami\n",
    "#definicja/pomoc na temat funkcji\n",
    "dodawanie(arg1='piotr',arg2='kuźmiak')"
   ]
  },
  {
   "cell_type": "markdown",
   "metadata": {
    "slideshow": {
     "slide_type": "slide"
    }
   },
   "source": [
    "### <p style = \"font-family:bahnschrift,garamond,serif;\">W praktyce, w naszym otoczeniu:</p>"
   ]
  },
  {
   "cell_type": "markdown",
   "metadata": {
    "slideshow": {
     "slide_type": "subslide"
    }
   },
   "source": [
    "#### <p style = \"font-family:bahnschrift,garamond,serif;\">Dostęp do danych, obróbka:</p>"
   ]
  },
  {
   "cell_type": "markdown",
   "metadata": {
    "slideshow": {
     "slide_type": "fragment"
    }
   },
   "source": [
    "moduł [pandas](https://pandas.pydata.org/pandas-docs/stable/getting_started/10min.html \"10 minut wprowadzenia\"):\n",
    "- dostęp do różnych żródeł danych: KHD, RDU  z ich łączeniem\n",
    "- import/eksport plików csv\n",
    "- import/eksport plików Excel'a wraz z formatowaniem wynikowym\n",
    "- nakładanie dowolnej funkcji na dane w pandas\n",
    "- formatowanie dla pandas w jupyter-notebook\n",
    "- ładowanie na Share Point\n",
    "\n",
    "[Przykłady łaczenia ze źródłami, selekcja, operacje na datach, eksport do Excela, wysyłka Share Point](http://localhost:8888/notebooks/pandas_selekcja_i_laczenie_zrodel.ipynb)\n"
   ]
  },
  {
   "cell_type": "markdown",
   "metadata": {
    "slideshow": {
     "slide_type": "subslide"
    }
   },
   "source": [
    "#### <p style = \"font-family:bahnschrift,garamond,serif;\">Wykresy, wizualizacje:</p>"
   ]
  },
  {
   "cell_type": "markdown",
   "metadata": {
    "slideshow": {
     "slide_type": "fragment"
    }
   },
   "source": [
    "**Wykresy**: moduły: matplotlib, [seaborn](http://seaborn.pydata.org/examples/index.html), [bokeh](https://nbviewer.jupyter.org/github/bokeh/bokeh-notebooks/blob/master/quickstart/quickstart.ipynb), plotly\n",
    "\n",
    "- [Przykłady wizualizacji: pandas, seaborn, plotly](http://localhost:8888/notebooks/python_wizualizacje.ipynb)\n",
    "- [Pandas style](https://pandas.pydata.org/pandas-docs/stable/user_guide/style.html)\n",
    "\n",
    "**Dane przestrzenne**: [folium](https://python-visualization.github.io/folium/quickstart.html#Getting-Started), geopy:\n",
    "- [Przykład poszukiwania koordynatów z wykorzystaniem serwera bankowego](http://localhost:8888/notebooks/geolokalizacja_serwer_bzwbk_bez_osx.ipynb)\n",
    "- [Przykłady wizualizacji z użyciem modułu folium](https://github.com/KKuzmiak/Projects)"
   ]
  },
  {
   "cell_type": "markdown",
   "metadata": {
    "slideshow": {
     "slide_type": "subslide"
    }
   },
   "source": [
    "#### <p style = \"font-family:bahnschrift,garamond,serif;\">Raporty, automatyzacja, inne:</p>"
   ]
  },
  {
   "cell_type": "markdown",
   "metadata": {
    "slideshow": {
     "slide_type": "subslide"
    }
   },
   "source": [
    "moduł [papermill](https://papermill.readthedocs.io/en/latest/usage-parameterize.html):\n",
    "- [przykład użycia](http://localhost:8888/notebooks/papermill.ipynb),"
   ]
  },
  {
   "cell_type": "code",
   "execution_count": 4,
   "metadata": {
    "slideshow": {
     "slide_type": "fragment"
    }
   },
   "outputs": [
    {
     "name": "stderr",
     "output_type": "stream",
     "text": [
      "Input Notebook:  papermill.ipynb\n",
      "Output Notebook: paper_output.ipynb\n",
      "\n",
      "  0%|          | 0/6 [00:00<?, ?it/s]\n",
      " 17%|#6        | 1/6 [00:11<00:55, 11.11s/it]\n",
      " 67%|######6   | 4/6 [00:11<00:15,  7.79s/it]\n",
      "100%|##########| 6/6 [00:11<00:00,  5.47s/it]\n"
     ]
    }
   ],
   "source": [
    "#wywołanie linii poleceń z jupyter notebook\n",
    "! papermill -p alpha 5 -p ratio 10 papermill.ipynb paper_output.ipynb"
   ]
  },
  {
   "cell_type": "markdown",
   "metadata": {
    "slideshow": {
     "slide_type": "fragment"
    }
   },
   "source": [
    "#### Sprawdzenie wyniku po przejściu przez papermill:\n",
    "[Wygenerowany jupyter-notebook dla nowych parametrów](paper_output.ipynb)"
   ]
  },
  {
   "cell_type": "markdown",
   "metadata": {
    "slideshow": {
     "slide_type": "subslide"
    }
   },
   "source": [
    "[*jupyter nbconvert*](https://nbconvert.readthedocs.io/en/latest/usage.html) dla eksportu **Jupyter Notebook'ów** do formatu HTML lub PDF,"
   ]
  },
  {
   "cell_type": "code",
   "execution_count": 5,
   "metadata": {
    "hide_input": false,
    "slideshow": {
     "slide_type": "fragment"
    }
   },
   "outputs": [
    {
     "name": "stderr",
     "output_type": "stream",
     "text": [
      "[NbConvertApp] WARNING | pattern 'jupyter' matched no files\n",
      "[NbConvertApp] WARNING | pattern 'nbconvert' matched no files\n",
      "[NbConvertApp] Converting notebook python_wizualizacje.ipynb to html\n",
      "[NbConvertApp] Writing 3649189 bytes to python_wizualizacje.html\n"
     ]
    }
   ],
   "source": [
    "! jupyter nbconvert python_wizualizacje.ipynb jupyter nbconvert \\\n",
    "--template=nbextensions \\\n",
    "--TagRemovePreprocessor.enabled=True \\\n",
    "--TagRemovePreprocessor.remove_cell_tags=\"['skip']\" \\\n",
    "--to html"
   ]
  },
  {
   "cell_type": "markdown",
   "metadata": {
    "slideshow": {
     "slide_type": "fragment"
    }
   },
   "source": [
    "#### Sprawdzenie wyniku do eksporcie do HTML:\n",
    "[Notebook wykesportowany do HTML](python_wizualizacje.html)"
   ]
  },
  {
   "cell_type": "markdown",
   "metadata": {
    "slideshow": {
     "slide_type": "subslide"
    }
   },
   "source": [
    "Łącząc powyższe razem otrzymujemy parametryzowane notebooki (szablony raportów) z możliwością eksportu do formatów: HTML lub PDF."
   ]
  },
  {
   "cell_type": "code",
   "execution_count": 3,
   "metadata": {
    "slideshow": {
     "slide_type": "fragment"
    }
   },
   "outputs": [
    {
     "name": "stderr",
     "output_type": "stream",
     "text": [
      "Input Notebook:  notebook_raport.ipynb\n",
      "Output Notebook: notebook_raport_EKF003.ipynb\n",
      "\n",
      "  0%|          | 0/12 [00:00<?, ?it/s]\n",
      "  8%|8         | 1/12 [00:07<01:17,  7.09s/it]\n",
      " 25%|##5       | 3/12 [00:14<00:55,  6.12s/it]\n",
      " 42%|####1     | 5/12 [00:52<01:09,  9.95s/it]\n",
      " 50%|#####     | 6/12 [00:52<00:42,  7.03s/it]\n",
      " 58%|#####8    | 7/12 [00:52<00:24,  4.97s/it]\n",
      " 75%|#######5  | 9/12 [00:53<00:10,  3.49s/it]\n",
      " 83%|########3 | 10/12 [01:01<00:10,  5.04s/it]\n",
      "100%|##########| 12/12 [01:23<00:00,  6.85s/it]\n",
      "[NbConvertApp] Converting notebook notebook_raport_EKF003.ipynb to html\n",
      "[NbConvertApp] Writing 295806 bytes to notebook_raport_EKF003.html\n"
     ]
    }
   ],
   "source": [
    "! papermill -p OFFER_TYPE_CD EKF003 notebook_raport.ipynb notebook_raport_EKF003.ipynb&&jupyter nbconvert notebook_raport_EKF003.ipynb \\\n",
    "--template=nbextensions \\\n",
    "--TagRemovePreprocessor.enabled=True \\\n",
    "--TagRemovePreprocessor.remove_cell_tags=\"['skip']\" \\\n",
    "--TemplateExporter.exclude_input=True\\\n",
    "--to html"
   ]
  },
  {
   "cell_type": "markdown",
   "metadata": {
    "slideshow": {
     "slide_type": "fragment"
    }
   },
   "source": [
    "[Wejściowy notebook](notebook_raport.ipynb)\n",
    "\n",
    "[Wygenerowany raport końcowy w formacie HTML](notebook_raport_EKF003.html)"
   ]
  },
  {
   "cell_type": "markdown",
   "metadata": {
    "slideshow": {
     "slide_type": "subslide"
    }
   },
   "source": [
    "moduł [jinja2](https://jinja.palletsprojects.com/en/2.10.x/intro/) dla modyfikowania dowolnych ciągów znaków:\n",
    "- [Przykład użycia dla dynamicznego generowania zapytania](http://localhost:8888/notebooks/jinja_sql.ipynb),"
   ]
  },
  {
   "cell_type": "markdown",
   "metadata": {
    "slideshow": {
     "slide_type": "subslide"
    }
   },
   "source": [
    " [...]Google Colab, znany również jako Colaboratory, to środowisko Jupyter dostarczane i obsługiwane przez Google[...]:\n",
    "[Poligon/zdalne środowisko Jupyter](https://bulldogjob.pl/news/738-google-colab-pythonowy-obszar-roboczy-w-chmurze)\n"
   ]
  },
  {
   "cell_type": "markdown",
   "metadata": {
    "slideshow": {
     "slide_type": "slide"
    }
   },
   "source": [
    "<div style=\"text-align:center\"><span style=\"color:black; font-family:Georgia; font-size:5em;\">KONIEC</span></div>"
   ]
  }
 ],
 "metadata": {
  "celltoolbar": "Slideshow",
  "hide_input": false,
  "kernelspec": {
   "display_name": "Python 3",
   "language": "python",
   "name": "python3"
  },
  "language_info": {
   "codemirror_mode": {
    "name": "ipython",
    "version": 3
   },
   "file_extension": ".py",
   "mimetype": "text/x-python",
   "name": "python",
   "nbconvert_exporter": "python",
   "pygments_lexer": "ipython3",
   "version": "3.7.3"
  },
  "rise": {
   "enable_chalkboard": true
  }
 },
 "nbformat": 4,
 "nbformat_minor": 2
}
