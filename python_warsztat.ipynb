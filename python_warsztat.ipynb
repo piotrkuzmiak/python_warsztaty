{
 "cells": [
  {
   "cell_type": "markdown",
   "metadata": {
    "slideshow": {
     "slide_type": "slide"
    }
   },
   "source": [
    "**Python** – język programowania wysokiego poziomu ogólnego przeznaczenia[3], o rozbudowanym pakiecie bibliotek standardowych[4], którego ideą przewodnią jest czytelność i klarowność kodu źródłowego. Jego składnia cechuje się przejrzystością i zwięzłością[5][6][...].[**Wikipedia**]"
   ]
  },
  {
   "cell_type": "markdown",
   "metadata": {
    "hide_input": true,
    "slideshow": {
     "slide_type": "slide"
    }
   },
   "source": [
    "- Instalacja **Anaconda Python**\n",
    "    * [strona do pobrania Ananconda Python](https://www.anaconda.com/distribution/ \"www.anaconda.com\")\n",
    "    * instalacja bez konieczności posiadania praw administratora lokalnego\n",
    "    * trzeba wskazać jawnie typ systemu do instalacji, np.: Windows\n",
    "    * warto dodać zaufany certyfikat PEM -wtedy instalacja dodatkowych modułów nie krzyczy ;)\n",
    "    * trzeba zmienić w settings metodę do dla języka YAML (względy bezpieczeństwa wymusiły)"
   ]
  },
  {
   "cell_type": "markdown",
   "metadata": {
    "slideshow": {
     "slide_type": "subslide"
    }
   },
   "source": [
    "- Co mamy \"w pudełku\":\n",
    "    * pandas\n",
    "    * numpy\n",
    "    * jupyter\n",
    "    * matplotlib\n",
    "    * seaborn\n",
    "    * bokeh\n",
    "    * spyder\n",
    "    * scikit-learn\n",
    "    * spyder\n",
    "    * wiele, wiele innych.\n",
    "- Co jeszcze warto \"dorzucić\" **i jak to doinstalować w Anaconda**\n",
    "    * [moduł teradata do połączeń przez ODBC z KHD](https://downloads.teradata.com/tools/reference/teradata-python-module#Installing \"do połączeń z KHD\")\n",
    "    * [moduł do tworzenia i formatowania arkuszy Excel](https://xlsxwriter.readthedocs.io/)\n",
    "    * [moduł oracle_cx do połączeń z bazami Oracle](https://oracle.github.io/python-cx_Oracle/)\n",
    "    * kernel języka R, [kernel SAS ?](https://github.com/sassoftware/sas_kernel)\n",
    "    * [rozszerzenia dla jupyter-notebook](https://jupyter-contrib-nbextensions.readthedocs.io/en/latest/)\n",
    "    "
   ]
  },
  {
   "cell_type": "markdown",
   "metadata": {
    "slideshow": {
     "slide_type": "slide"
    }
   },
   "source": [
    "Edytory kodu, środowiska (oba w pudełku):\n",
    "\n",
    "[Środowisko analityczne Jupyter](https://jupyter.org/try)\n",
    "\n",
    "[Edytor spyder](https://www.spyder-ide.org/)"
   ]
  },
  {
   "cell_type": "markdown",
   "metadata": {
    "slideshow": {
     "slide_type": "slide"
    }
   },
   "source": [
    "### Python:\n",
    "- wcięcia, wcięcia.... ufffff ;)"
   ]
  },
  {
   "cell_type": "markdown",
   "metadata": {
    "slideshow": {
     "slide_type": "subslide"
    }
   },
   "source": [
    "<img src='wciecie.jpg'/>"
   ]
  },
  {
   "cell_type": "markdown",
   "metadata": {
    "slideshow": {
     "slide_type": "slide"
    }
   },
   "source": [
    "- definiowanie zmiennych, czyli przypisania wartości i odwołania do tych zmiennych takie: %LET zmienna i &zmienna, tylko prościej\n",
    "- typy danych, w tym string, formatowanie stringów ,czyli ciągów znaków lub dat, Template -> przyda się później\n",
    "- opracje na ciągach\n",
    "- listy, sekwencje, słowniki\n",
    "- przepływ sterowania"
   ]
  },
  {
   "cell_type": "code",
   "execution_count": 1,
   "metadata": {
    "hide_input": false,
    "slideshow": {
     "slide_type": "fragment"
    }
   },
   "outputs": [],
   "source": [
    "#definiowanie funkcji\n",
    "def dodawanie(zmienna1, zmienna2):\n",
    "    \"\"\"\n",
    "    Funkcja dodaje 2 i 3\n",
    "    Wynik:\n",
    "    --------\n",
    "    Liczba całkowita\n",
    "    \"\"\"\n",
    "    return zmienna1+zmienna2"
   ]
  },
  {
   "cell_type": "markdown",
   "metadata": {
    "slideshow": {
     "slide_type": "slide"
    }
   },
   "source": [
    "- funkcja definicja vs makro i wykonanie, przekazanie argumentów, składnia zawsze taka sama :), docstring'i\n",
    "- rozwijanie podpowiedzi w trakcie pisania, czyli pomoc przy kodowaniu pod tabulatorem - rozwinięcie kropki - inaczej: programowania obiektowego,\n",
    "- odwołania do zmniennych bez jakiegokolwiek pośrednika stąd bez potrzeby stosowania \"dziwnych\" ucieczek w stylu: SCAN vs %QSCAN, %BQUOTE,  %NRBQUOTE, itd.\n",
    "- debugowanie kodu, co i jak kod mówi do mnie"
   ]
  },
  {
   "cell_type": "code",
   "execution_count": 1,
   "metadata": {
    "hide_input": false,
    "slideshow": {
     "slide_type": "fragment"
    }
   },
   "outputs": [],
   "source": [
    "#definiowanie funkcji\n",
    "def dodawanie(zmienna1, zmienna2):\n",
    "    \"\"\"\n",
    "    Funkcja dodaje 2 i 3\n",
    "    Wynik:\n",
    "    --------\n",
    "    Liczba całkowita\n",
    "    \"\"\"\n",
    "    return zmienna1+zmienna2"
   ]
  },
  {
   "cell_type": "code",
   "execution_count": 1,
   "metadata": {
    "hide_input": false,
    "slideshow": {
     "slide_type": "fragment"
    }
   },
   "outputs": [
    {
     "ename": "NameError",
     "evalue": "name 'dodawanie' is not defined",
     "output_type": "error",
     "traceback": [
      "\u001b[1;31m---------------------------------------------------------------------------\u001b[0m",
      "\u001b[1;31mNameError\u001b[0m                                 Traceback (most recent call last)",
      "\u001b[1;32m<ipython-input-1-c464f5662e29>\u001b[0m in \u001b[0;36m<module>\u001b[1;34m\u001b[0m\n\u001b[0;32m      3\u001b[0m \u001b[1;31m#wywołanie z argumentami\u001b[0m\u001b[1;33m\u001b[0m\u001b[1;33m\u001b[0m\u001b[1;33m\u001b[0m\u001b[0m\n\u001b[0;32m      4\u001b[0m \u001b[1;31m#definicja/pomoc na temat funkcji\u001b[0m\u001b[1;33m\u001b[0m\u001b[1;33m\u001b[0m\u001b[1;33m\u001b[0m\u001b[0m\n\u001b[1;32m----> 5\u001b[1;33m \u001b[0mdodawanie\u001b[0m\u001b[1;33m(\u001b[0m\u001b[1;36m3\u001b[0m\u001b[1;33m,\u001b[0m\u001b[0mzmienna2\u001b[0m\u001b[1;33m=\u001b[0m\u001b[1;36m4\u001b[0m\u001b[1;33m)\u001b[0m\u001b[1;33m\u001b[0m\u001b[1;33m\u001b[0m\u001b[0m\n\u001b[0m",
      "\u001b[1;31mNameError\u001b[0m: name 'dodawanie' is not defined"
     ]
    }
   ],
   "source": [
    "#wywolanie funkcji - przy okazji tak komentujemy w kodzie w Python\n",
    "#dodanie argumentów\n",
    "#wywołanie z argumentami\n",
    "#definicja/pomoc na temat funkcji\n",
    "dodawanie(3,zmienna2=4)"
   ]
  },
  {
   "cell_type": "markdown",
   "metadata": {
    "slideshow": {
     "slide_type": "slide"
    }
   },
   "source": [
    "- extra teza!: Python jest wolny, są rozwiązania, które w kilka minut robią to co taki Apache Spark \"mieli\" godzinami - [Z pewnością tak, ale...](https://bulldogjob.pl/news/305-tak-python-jest-wolny-i-co-z-tego)"
   ]
  },
  {
   "cell_type": "code",
   "execution_count": 1,
   "metadata": {
    "hide_input": false,
    "slideshow": {
     "slide_type": "fragment"
    }
   },
   "outputs": [],
   "source": [
    "#definiowanie funkcji\n",
    "def dodawanie(zmienna1, zmienna2):\n",
    "    \"\"\"\n",
    "    Funkcja dodaje 2 i 3\n",
    "    Wynik:\n",
    "    --------\n",
    "    Liczba całkowita\n",
    "    \"\"\"\n",
    "    return zmienna1+zmienna2"
   ]
  },
  {
   "cell_type": "markdown",
   "metadata": {
    "slideshow": {
     "slide_type": "slide"
    }
   },
   "source": [
    "[pandas](https://pandas.pydata.org/pandas-docs/stable/getting_started/10min.html \"10 minut wprowadzenia\")\n",
    "- szybkie, bo w pamięci działania na danych\n",
    "- wieloraka obróbka danych, jak:\n",
    "    - selekcja danych, wybór próbki, statystyki opisowe na danych, odrzucanie NULL'i, distinct na danych\n",
    "    - sporządzanie wykresów dla danych\n",
    "    - kontener dla łaczenia danych z wielu źródeł\n",
    "    - grupowanie\n",
    "    - przedziały\n",
    "    - tabele przestawne i wiele innych\n",
    "    - łatwy eksport do innych formatów p.: do Excel, CVS"
   ]
  },
  {
   "cell_type": "markdown",
   "metadata": {
    "slideshow": {
     "slide_type": "slide"
    }
   },
   "source": [
    "### W praktyce, w naszym otoczeniu:"
   ]
  },
  {
   "cell_type": "markdown",
   "metadata": {
    "slideshow": {
     "slide_type": "slide"
    }
   },
   "source": [
    "#### pandas:\n",
    "- dostęp do różnych żróeł danych: KHD, RDU  z ich łączeniem\n",
    "- import/eksport plików csv\n",
    "- import/eksport plików XLSX wraz z formatowaniem wynikowym\n",
    "- nakładanie dowolnej funkcji na dane w pandas\n",
    "- formatowanie dla pandas w jupyter-notebook\n",
    "- ładowanie na Share Point\n",
    "\n",
    "[Przykłady łaczenia ze źródłami, selekcja, operacje na datach, eksport do Excela](http://localhost:8888/notebooks/pandas_selekcja_i_laczenie_zrodel.ipynb)\n",
    "\n",
    "[Przykład group by, formatowania w pandas na jupyter i wizualizacji seaborn: heatmapa](http://localhost:8888/notebooks/pandas_selekcja_i_laczenie_zrodel.ipynb)"
   ]
  },
  {
   "cell_type": "markdown",
   "metadata": {
    "slideshow": {
     "slide_type": "slide"
    }
   },
   "source": [
    "matplotlib, [seaborn](http://seaborn.pydata.org/examples/index.html), [bokeh](https://nbviewer.jupyter.org/github/bokeh/bokeh-notebooks/blob/master/quickstart/quickstart.ipynb)\n",
    "- wizualizacje"
   ]
  },
  {
   "cell_type": "markdown",
   "metadata": {
    "slideshow": {
     "slide_type": "slide"
    }
   },
   "source": [
    "[folium](https://python-visualization.github.io/folium/quickstart.html#Getting-Started), geopy:\n",
    "- zabawy z danymi geo\n",
    "    - [Przykład]((http://localhost:8888/notebooks/geolokalizacja_serwer_bzwbk_bez_osx.ipynb))\n",
    "\n",
    "\n"
   ]
  },
  {
   "cell_type": "markdown",
   "metadata": {
    "slideshow": {
     "slide_type": "slide"
    }
   },
   "source": [
    "Extra:\n",
    "- [jinja2](https://jinja.palletsprojects.com/en/2.10.x/intro/)\n",
    "    - [Przykład](http://localhost:8888/notebooks/jinja_sql.ipynb)\n",
    "- [...]Google Colab, znany również jako Colaboratory, to środowisko Jupyter dostarczane i obsługiwane przez Google[...]:\n",
    "[Poligon/zdalne środowisko Jupyter](https://bulldogjob.pl/news/738-google-colab-pythonowy-obszar-roboczy-w-chmurze)\n",
    "- [papermill - zastosowanie](http://localhost:8888/notebooks/papermill.ipynb)"
   ]
  },
  {
   "cell_type": "code",
   "execution_count": 18,
   "metadata": {},
   "outputs": [
    {
     "name": "stderr",
     "output_type": "stream",
     "text": [
      "Input Notebook:  papermill.ipynb\n",
      "Output Notebook: paper_output.ipynb\n",
      "\n",
      "  0%|          | 0/6 [00:00<?, ?it/s]\n",
      " 17%|#6        | 1/6 [00:03<00:18,  3.61s/it]\n",
      " 83%|########3 | 5/6 [00:03<00:02,  2.54s/it]\n",
      "100%|##########| 6/6 [00:04<00:00,  1.47it/s]\n"
     ]
    }
   ],
   "source": [
    "! papermill -p alpha 5 -p ratio 10 papermill.ipynb paper_output.ipynb"
   ]
  },
  {
   "cell_type": "code",
   "execution_count": null,
   "metadata": {},
   "outputs": [],
   "source": []
  }
 ],
 "metadata": {
  "celltoolbar": "Slideshow",
  "hide_input": false,
  "kernelspec": {
   "display_name": "Python 3",
   "language": "python",
   "name": "python3"
  },
  "language_info": {
   "codemirror_mode": {
    "name": "ipython",
    "version": 3
   },
   "file_extension": ".py",
   "mimetype": "text/x-python",
   "name": "python",
   "nbconvert_exporter": "python",
   "pygments_lexer": "ipython3",
   "version": "3.7.3"
  }
 },
 "nbformat": 4,
 "nbformat_minor": 2
}
